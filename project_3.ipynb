{
  "nbformat": 4,
  "nbformat_minor": 0,
  "metadata": {
    "colab": {
      "provenance": [],
      "authorship_tag": "ABX9TyNo+ZUQSNVfxHPppLLazpsd",
      "include_colab_link": true
    },
    "kernelspec": {
      "name": "python3",
      "display_name": "Python 3"
    },
    "language_info": {
      "name": "python"
    }
  },
  "cells": [
    {
      "cell_type": "markdown",
      "metadata": {
        "id": "view-in-github",
        "colab_type": "text"
      },
      "source": [
        "<a href=\"https://colab.research.google.com/github/emilymacris/DS-4002/blob/main/project_3.ipynb\" target=\"_parent\"><img src=\"https://colab.research.google.com/assets/colab-badge.svg\" alt=\"Open In Colab\"/></a>"
      ]
    },
    {
      "cell_type": "code",
      "source": [
        "! git clone https://github.com/emilymacris/ds4002-project3"
      ],
      "metadata": {
        "id": "k8Amd5z6BAWD"
      },
      "execution_count": null,
      "outputs": []
    },
    {
      "cell_type": "code",
      "source": [],
      "metadata": {
        "id": "59yp0FZaBHq6"
      },
      "execution_count": null,
      "outputs": []
    },
    {
      "cell_type": "code",
      "execution_count": null,
      "metadata": {
        "id": "JgwIO19NIFip",
        "collapsed": true
      },
      "outputs": [],
      "source": [
        "!pip install earthengine-api\n",
        "!pip install geemap"
      ]
    },
    {
      "cell_type": "code",
      "source": [
        "import ee\n",
        "import geemap"
      ],
      "metadata": {
        "id": "rozIEM9-PtAD"
      },
      "execution_count": null,
      "outputs": []
    },
    {
      "cell_type": "code",
      "source": [
        "ee.Authenticate()\n",
        "ee.Initialize(project='ee-bdf7bz')\n"
      ],
      "metadata": {
        "id": "8TQWkvrrQ3t4"
      },
      "execution_count": null,
      "outputs": []
    },
    {
      "cell_type": "code",
      "source": [
        "aoi = ee.Geometry.Rectangle([-147.5, 60.7, -146.5, 61.3])  # Columbia Glacier area\n",
        "\n",
        "# Use the new Collection 2 dataset\n",
        "image = ee.ImageCollection('LANDSAT/LC08/C02/T1_L2') \\\n",
        "    .filterBounds(aoi) \\\n",
        "    .filterDate('2021-06-01', '2021-08-31') \\\n",
        "    .median() \\\n",
        "    .clip(aoi)\n",
        "\n",
        "Map = geemap.Map(center=[60.9, -147.0], zoom=9)\n",
        "Map.addLayer(image, {'bands': ['SR_B4', 'SR_B3', 'SR_B2'], 'min': 0, 'max': 30000}, 'True Color')\n",
        "Map\n"
      ],
      "metadata": {
        "id": "MCc4u7WZQ7IO"
      },
      "execution_count": null,
      "outputs": []
    },
    {
      "cell_type": "code",
      "source": [
        "# Compute NDSI (snow/ice index)\n",
        "ndsi = image.normalizedDifference(['SR_B3', 'SR_B6']).rename('NDSI')\n",
        "\n",
        "# Compute NDVI (vegetation index)\n",
        "ndvi = image.normalizedDifference(['SR_B5', 'SR_B4']).rename('NDVI')\n",
        "\n",
        "# Add them to your image\n",
        "image = image.addBands([ndsi, ndvi])"
      ],
      "metadata": {
        "id": "TSdqbB43Px-8"
      },
      "execution_count": null,
      "outputs": []
    },
    {
      "cell_type": "code",
      "source": [
        "stats = image.reduceRegion(\n",
        "    reducer=ee.Reducer.mean().combine(\n",
        "        ee.Reducer.minMax(), sharedInputs=True\n",
        "    ),\n",
        "    geometry=aoi,\n",
        "    scale=30,\n",
        "    maxPixels=1e9  # set this high enough\n",
        ")\n",
        "\n",
        "print(stats.getInfo())"
      ],
      "metadata": {
        "id": "KZHXy4nOBpRv"
      },
      "execution_count": null,
      "outputs": []
    },
    {
      "cell_type": "code",
      "source": [
        "training_points = ee.FeatureCollection('users/bdf7bz/glacier_training')\n"
      ],
      "metadata": {
        "id": "C_U_AJCMAqfe"
      },
      "execution_count": null,
      "outputs": []
    },
    {
      "cell_type": "code",
      "source": [
        "training_data = image.sampleRegions(\n",
        "    collection=training_points,\n",
        "    properties=['class'],  # label column\n",
        "    scale=30\n",
        ")"
      ],
      "metadata": {
        "id": "wRkRUDNxCqnk"
      },
      "execution_count": null,
      "outputs": []
    },
    {
      "cell_type": "code",
      "source": [
        "import pandas as pd\n",
        "import json\n",
        "\n",
        "# Convert EE FeatureCollection to GeoJSON dictionary\n",
        "geojson = geemap.ee_to_geojson(training_data)\n",
        "\n",
        "# Convert to pandas DataFrame\n",
        "df = pd.json_normalize(geojson['features'])\n",
        "\n",
        "# Preview\n",
        "df.head()"
      ],
      "metadata": {
        "id": "GyJAb4NRCuJv"
      },
      "execution_count": null,
      "outputs": []
    },
    {
      "cell_type": "code",
      "source": [
        "# Clean column names (remove 'properties.' prefix)\n",
        "df.columns = df.columns.str.replace('properties.', '', regex=False)\n",
        "\n",
        "# Drop unnecessary columns\n",
        "drop_cols = ['type', 'geometry', 'id']\n",
        "df_clean = df.drop(columns=drop_cols)\n",
        "\n",
        "# Preview cleaned data\n",
        "df_clean.head()"
      ],
      "metadata": {
        "id": "c2Bg5EWCzxBk"
      },
      "execution_count": null,
      "outputs": []
    },
    {
      "cell_type": "code",
      "source": [
        "import seaborn as sns\n",
        "import matplotlib.pyplot as plt\n",
        "\n",
        "# Distribution of NDSI and NDVI by class\n",
        "sns.boxplot(x='class', y='NDSI', data=df_clean)\n",
        "plt.title('NDSI by Class')\n",
        "plt.show()\n",
        "\n",
        "sns.boxplot(x='class', y='NDVI', data=df_clean)\n",
        "plt.title('NDVI by Class')\n",
        "plt.show()\n",
        "\n",
        "# Correlation heatmap\n",
        "sns.heatmap(df_clean.corr(), annot=True, fmt=\".2f\", cmap='coolwarm')\n",
        "plt.title(\"Feature Correlation Heatmap\")\n",
        "plt.show()"
      ],
      "metadata": {
        "id": "gFSMICAjzz_Y"
      },
      "execution_count": null,
      "outputs": []
    },
    {
      "cell_type": "code",
      "source": [
        "import matplotlib.pyplot as plt\n",
        "import seaborn as sns\n",
        "\n",
        "# Plot histograms for NDSI and NDVI\n",
        "features = ['NDSI', 'NDVI']\n",
        "for feature in features:\n",
        "    plt.figure(figsize=(7, 4))\n",
        "    sns.histplot(data=df_clean, x=feature, hue='class', kde=True, palette='coolwarm', bins=30)\n",
        "    plt.title(f'Distribution of {feature} by Class')\n",
        "    plt.xlabel(feature)\n",
        "    plt.ylabel('Count')\n",
        "    plt.legend(title='Class', labels=['Non-Glacier (0)', 'Glacier (1)'])\n",
        "    plt.tight_layout()\n",
        "    plt.show()"
      ],
      "metadata": {
        "id": "IRiXteHZ0U3P"
      },
      "execution_count": null,
      "outputs": []
    },
    {
      "cell_type": "code",
      "source": [
        "# Only select relevant columns\n",
        "plot_features = ['NDSI', 'NDVI', 'class']\n",
        "sns.pairplot(df_clean[plot_features], hue='class', palette='coolwarm', diag_kind='kde')\n",
        "plt.suptitle(\"Pairplot of NDSI/NDVI by Class\", y=1.02)\n",
        "plt.show()\n"
      ],
      "metadata": {
        "id": "kLPxJkCG0Xio"
      },
      "execution_count": null,
      "outputs": []
    },
    {
      "cell_type": "code",
      "source": [
        "# Melt the DataFrame for boxplotting\n",
        "melted = df_clean.melt(id_vars='class', value_vars=['NDSI', 'NDVI'])\n",
        "\n",
        "plt.figure(figsize=(8, 5))\n",
        "sns.boxplot(x='variable', y='value', hue='class', data=melted, palette='Set2')\n",
        "plt.title(\"Boxplot of Features by Class\")\n",
        "plt.xlabel(\"Feature\")\n",
        "plt.ylabel(\"Value\")\n",
        "plt.tight_layout()\n",
        "plt.show()\n"
      ],
      "metadata": {
        "id": "aMWu4xP_0hxq"
      },
      "execution_count": null,
      "outputs": []
    },
    {
      "cell_type": "code",
      "source": [
        "plt.figure(figsize=(12, 10))\n",
        "sns.heatmap(df_clean.corr(), annot=True, cmap='coolwarm', fmt=\".2f\")\n",
        "plt.title(\"Correlation Matrix of All Features\")\n",
        "plt.tight_layout()\n",
        "plt.show()\n"
      ],
      "metadata": {
        "id": "4pgTyP5T0nCk"
      },
      "execution_count": null,
      "outputs": []
    }
  ]
}